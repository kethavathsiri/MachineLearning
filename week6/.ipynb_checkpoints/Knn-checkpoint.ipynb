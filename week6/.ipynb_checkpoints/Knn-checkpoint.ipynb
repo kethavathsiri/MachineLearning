{
 "cells": [
  {
   "cell_type": "code",
   "execution_count": 1,
   "id": "236933d1-417e-439e-9070-529cc389ef10",
   "metadata": {},
   "outputs": [],
   "source": [
    "#1 Import necessary libraries\n",
    "import pandas as pd\n",
    "import matplotlib.pyplot as plt\n",
    "from sklearn.model_selection import train_test_split\n",
    "from sklearn.neighbors import KNeighborsClassifier\n"
   ]
  },
  {
   "cell_type": "code",
   "execution_count": 3,
   "id": "2f409d8c-caec-476e-8249-123140a12c14",
   "metadata": {},
   "outputs": [],
   "source": [
    "#2.Import the train data\n",
    "train_data=pd.read_csv(\"Week7_train.csv\")\n",
    "test_data=pd.read_csv(\"Week7_test.csv\")"
   ]
  },
  {
   "cell_type": "code",
   "execution_count": 5,
   "id": "327b9752-2b0d-4d2d-a074-e3284111d1c6",
   "metadata": {},
   "outputs": [
    {
     "name": "stdout",
     "output_type": "stream",
     "text": [
      "shape of a train data  (42000, 785)\n",
      "shape of a test data  (28000, 784)\n"
     ]
    }
   ],
   "source": [
    "#3.check the shape of the data\n",
    "print(\"shape of a train data \",train_data.shape)\n",
    "print(\"shape of a test data \",test_data.shape)"
   ]
  },
  {
   "cell_type": "code",
   "execution_count": 7,
   "id": "939b8f09-738a-445e-9a05-14d9fc4c936e",
   "metadata": {},
   "outputs": [
    {
     "name": "stdout",
     "output_type": "stream",
     "text": [
      "selected sample shape : (4200, 785)\n"
     ]
    }
   ],
   "source": [
    "#4.select only 10% of the data from experiment.we will not use total data as KNN is\n",
    "train_sample=train_data.sample(frac=0.1,random_state=42)\n",
    "print(\"selected sample shape :\",train_sample.shape)"
   ]
  },
  {
   "cell_type": "code",
   "execution_count": 9,
   "id": "77c3fa1d-9475-41d8-87ef-ae0b4aa0f3e0",
   "metadata": {},
   "outputs": [
    {
     "name": "stdout",
     "output_type": "stream",
     "text": [
      "(4200, 785)\n"
     ]
    }
   ],
   "source": [
    "#5: Print Shape of the Selected Dataset\n",
    "print(train_sample.shape)"
   ]
  },
  {
   "cell_type": "code",
   "execution_count": 25,
   "id": "8b52c4f0-a99f-4d9b-899b-90c71cd4117e",
   "metadata": {},
   "outputs": [
    {
     "name": "stdout",
     "output_type": "stream",
     "text": [
      "       label  pixel0  pixel1  pixel2  pixel3  pixel4  pixel5  pixel6  pixel7  \\\n",
      "5457       8       0       0       0       0       0       0       0       0   \n",
      "38509      1       0       0       0       0       0       0       0       0   \n",
      "25536      9       0       0       0       0       0       0       0       0   \n",
      "31803      9       0       0       0       0       0       0       0       0   \n",
      "39863      8       0       0       0       0       0       0       0       0   \n",
      "\n",
      "       pixel8  ...  pixel774  pixel775  pixel776  pixel777  pixel778  \\\n",
      "5457        0  ...         0         0         0         0         0   \n",
      "38509       0  ...         0         0         0         0         0   \n",
      "25536       0  ...         0         0         0         0         0   \n",
      "31803       0  ...         0         0         0         0         0   \n",
      "39863       0  ...         0         0         0         0         0   \n",
      "\n",
      "       pixel779  pixel780  pixel781  pixel782  pixel783  \n",
      "5457          0         0         0         0         0  \n",
      "38509         0         0         0         0         0  \n",
      "25536         0         0         0         0         0  \n",
      "31803         0         0         0         0         0  \n",
      "39863         0         0         0         0         0  \n",
      "\n",
      "[5 rows x 785 columns]\n"
     ]
    }
   ],
   "source": [
    "# 6: Look at the Top 5 Rows\n",
    "print(train_sample.head(5))\n"
   ]
  },
  {
   "cell_type": "code",
   "execution_count": null,
   "id": "39e97aa6-86b1-4701-9a45-7633bab3ff10",
   "metadata": {},
   "outputs": [],
   "source": []
  },
  {
   "cell_type": "code",
   "execution_count": null,
   "id": "e291da01-e84d-40d1-8ace-469d75729862",
   "metadata": {},
   "outputs": [],
   "source": []
  },
  {
   "cell_type": "code",
   "execution_count": null,
   "id": "7c74cfa7-f1e0-45ad-847d-55b36c8b7a83",
   "metadata": {},
   "outputs": [],
   "source": []
  },
  {
   "cell_type": "code",
   "execution_count": null,
   "id": "b461bcca-2273-456b-a9cf-f099c6a4336c",
   "metadata": {},
   "outputs": [],
   "source": []
  },
  {
   "cell_type": "code",
   "execution_count": null,
   "id": "93ad1dc0-abfd-43b3-a247-cb3a27dda59c",
   "metadata": {},
   "outputs": [],
   "source": []
  }
 ],
 "metadata": {
  "kernelspec": {
   "display_name": "Python [conda env:base] *",
   "language": "python",
   "name": "conda-base-py"
  },
  "language_info": {
   "codemirror_mode": {
    "name": "ipython",
    "version": 3
   },
   "file_extension": ".py",
   "mimetype": "text/x-python",
   "name": "python",
   "nbconvert_exporter": "python",
   "pygments_lexer": "ipython3",
   "version": "3.11.7"
  }
 },
 "nbformat": 4,
 "nbformat_minor": 5
}
